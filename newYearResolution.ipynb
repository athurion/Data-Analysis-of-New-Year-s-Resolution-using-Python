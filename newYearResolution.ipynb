{
 "cells": [
  {
   "cell_type": "markdown",
   "metadata": {},
   "source": [
    "### Import the libraries"
   ]
  },
  {
   "cell_type": "code",
   "execution_count": 8,
   "metadata": {},
   "outputs": [],
   "source": [
    "import pandas as pd\n",
    "import matplotlib.pyplot as plt\n",
    "import seaborn as sns\n",
    "\n",
    "%matplotlib inline"
   ]
  },
  {
   "cell_type": "markdown",
   "metadata": {},
   "source": [
    "### Load the data set"
   ]
  },
  {
   "cell_type": "code",
   "execution_count": 23,
   "metadata": {},
   "outputs": [],
   "source": [
    "df = pd.read_csv('new_year_resolutions_dataset.csv', sep=';')"
   ]
  },
  {
   "cell_type": "markdown",
   "metadata": {},
   "source": [
    "### Data Audit"
   ]
  },
  {
   "cell_type": "code",
   "execution_count": 24,
   "metadata": {},
   "outputs": [
    {
     "data": {
      "text/html": [
       "<div>\n",
       "<style scoped>\n",
       "    .dataframe tbody tr th:only-of-type {\n",
       "        vertical-align: middle;\n",
       "    }\n",
       "\n",
       "    .dataframe tbody tr th {\n",
       "        vertical-align: top;\n",
       "    }\n",
       "\n",
       "    .dataframe thead th {\n",
       "        text-align: right;\n",
       "    }\n",
       "</style>\n",
       "<table border=\"1\" class=\"dataframe\">\n",
       "  <thead>\n",
       "    <tr style=\"text-align: right;\">\n",
       "      <th></th>\n",
       "      <th>resolution_topics</th>\n",
       "      <th>gender</th>\n",
       "      <th>name</th>\n",
       "      <th>resolution_category</th>\n",
       "      <th>retweet_count</th>\n",
       "      <th>text</th>\n",
       "      <th>tweet_coord</th>\n",
       "      <th>tweet_created</th>\n",
       "      <th>tweet_date</th>\n",
       "      <th>tweet_id</th>\n",
       "      <th>tweet_location</th>\n",
       "      <th>tweet_state</th>\n",
       "      <th>user_timezone</th>\n",
       "      <th>tweet_region</th>\n",
       "    </tr>\n",
       "  </thead>\n",
       "  <tbody>\n",
       "    <tr>\n",
       "      <th>0</th>\n",
       "      <td>Eat healthier</td>\n",
       "      <td>female</td>\n",
       "      <td>Dena_Marina</td>\n",
       "      <td>Health &amp; Fitness</td>\n",
       "      <td>0.0</td>\n",
       "      <td>#NewYearsResolution :: Read more books, No scr...</td>\n",
       "      <td>NaN</td>\n",
       "      <td>2014-12-31T10:48:00</td>\n",
       "      <td>2014-12-31</td>\n",
       "      <td>5,50363E+17</td>\n",
       "      <td>Southern California</td>\n",
       "      <td>CA</td>\n",
       "      <td>Pacific Time (US &amp; Canada)</td>\n",
       "      <td>West</td>\n",
       "    </tr>\n",
       "    <tr>\n",
       "      <th>1</th>\n",
       "      <td>Humor about Personal Growth and Interests Reso...</td>\n",
       "      <td>female</td>\n",
       "      <td>ninjagirl325</td>\n",
       "      <td>Humor</td>\n",
       "      <td>1.0</td>\n",
       "      <td>#NewYearsResolution Finally master @ZJ10 's pa...</td>\n",
       "      <td>NaN</td>\n",
       "      <td>2014-12-31T10:47:00</td>\n",
       "      <td>2014-12-31</td>\n",
       "      <td>5,50363E+17</td>\n",
       "      <td>New Jersey</td>\n",
       "      <td>NJ</td>\n",
       "      <td>Central Time (US &amp; Canada)</td>\n",
       "      <td>Northeast</td>\n",
       "    </tr>\n",
       "    <tr>\n",
       "      <th>2</th>\n",
       "      <td>Be More Confident</td>\n",
       "      <td>male</td>\n",
       "      <td>RickyDelReyy</td>\n",
       "      <td>Personal Growth</td>\n",
       "      <td>0.0</td>\n",
       "      <td>#NewYearsResolution to stop being so damn perf...</td>\n",
       "      <td>NaN</td>\n",
       "      <td>2014-12-31T10:46:00</td>\n",
       "      <td>2014-12-31</td>\n",
       "      <td>5,50362E+17</td>\n",
       "      <td>Hollywood</td>\n",
       "      <td>CA</td>\n",
       "      <td>Eastern Time (US &amp; Canada)</td>\n",
       "      <td>West</td>\n",
       "    </tr>\n",
       "    <tr>\n",
       "      <th>3</th>\n",
       "      <td>Other</td>\n",
       "      <td>male</td>\n",
       "      <td>CalmareNJ</td>\n",
       "      <td>Philanthropic</td>\n",
       "      <td>0.0</td>\n",
       "      <td>My #NewYearsResolution is to help my disabled ...</td>\n",
       "      <td>NaN</td>\n",
       "      <td>2014-12-31T10:45:00</td>\n",
       "      <td>2014-12-31</td>\n",
       "      <td>5,50362E+17</td>\n",
       "      <td>Metro NYC</td>\n",
       "      <td>NY</td>\n",
       "      <td>NaN</td>\n",
       "      <td>Northeast</td>\n",
       "    </tr>\n",
       "    <tr>\n",
       "      <th>4</th>\n",
       "      <td>Be more positive</td>\n",
       "      <td>female</td>\n",
       "      <td>welovatoyoudemi</td>\n",
       "      <td>Personal Growth</td>\n",
       "      <td>0.0</td>\n",
       "      <td>#NewYearsResolution #2015Goals #2015bucketlist...</td>\n",
       "      <td>NaN</td>\n",
       "      <td>2014-12-31T10:44:00</td>\n",
       "      <td>2014-12-31</td>\n",
       "      <td>5,50362E+17</td>\n",
       "      <td>Pittsburgh, Pennsylvania</td>\n",
       "      <td>PA</td>\n",
       "      <td>Eastern Time (US &amp; Canada)</td>\n",
       "      <td>Northeast</td>\n",
       "    </tr>\n",
       "    <tr>\n",
       "      <th>...</th>\n",
       "      <td>...</td>\n",
       "      <td>...</td>\n",
       "      <td>...</td>\n",
       "      <td>...</td>\n",
       "      <td>...</td>\n",
       "      <td>...</td>\n",
       "      <td>...</td>\n",
       "      <td>...</td>\n",
       "      <td>...</td>\n",
       "      <td>...</td>\n",
       "      <td>...</td>\n",
       "      <td>...</td>\n",
       "      <td>...</td>\n",
       "      <td>...</td>\n",
       "    </tr>\n",
       "    <tr>\n",
       "      <th>4997</th>\n",
       "      <td>Other</td>\n",
       "      <td>female</td>\n",
       "      <td>yates_amber</td>\n",
       "      <td>Recreation &amp; Leisure</td>\n",
       "      <td>0.0</td>\n",
       "      <td>#NewYearsResolution to start a hobby, do it on...</td>\n",
       "      <td>NaN</td>\n",
       "      <td>2014-12-31T10:35:00</td>\n",
       "      <td>2014-12-31</td>\n",
       "      <td>5,5036E+17</td>\n",
       "      <td>louisville, ky</td>\n",
       "      <td>KY</td>\n",
       "      <td>Eastern Time (US &amp; Canada)</td>\n",
       "      <td>South</td>\n",
       "    </tr>\n",
       "    <tr>\n",
       "      <th>4998</th>\n",
       "      <td>Be more positive</td>\n",
       "      <td>female</td>\n",
       "      <td>LadyLiberally</td>\n",
       "      <td>Personal Growth</td>\n",
       "      <td>0.0</td>\n",
       "      <td>I want 2015 2 lack entropy, become pregnant w/...</td>\n",
       "      <td>NaN</td>\n",
       "      <td>2014-12-31T10:24:00</td>\n",
       "      <td>2014-12-31</td>\n",
       "      <td>5,50357E+17</td>\n",
       "      <td>Marquette, Mi</td>\n",
       "      <td>MI</td>\n",
       "      <td>Eastern Time (US &amp; Canada)</td>\n",
       "      <td>Midwest</td>\n",
       "    </tr>\n",
       "    <tr>\n",
       "      <th>4999</th>\n",
       "      <td>Other</td>\n",
       "      <td>male</td>\n",
       "      <td>sbleggi</td>\n",
       "      <td>Career</td>\n",
       "      <td>0.0</td>\n",
       "      <td>MMT @neilwatkins05 @elledodd: \"I'm setting mys...</td>\n",
       "      <td>NaN</td>\n",
       "      <td>2014-12-31T10:21:00</td>\n",
       "      <td>2014-12-31</td>\n",
       "      <td>5,50356E+17</td>\n",
       "      <td>MoCo, MD &amp; SW DC</td>\n",
       "      <td>MD</td>\n",
       "      <td>NaN</td>\n",
       "      <td>South</td>\n",
       "    </tr>\n",
       "    <tr>\n",
       "      <th>5000</th>\n",
       "      <td>Other</td>\n",
       "      <td>male</td>\n",
       "      <td>ssl01191</td>\n",
       "      <td>Humor</td>\n",
       "      <td>0.0</td>\n",
       "      <td>Lets leave the words bae, bruh, thot, and flee...</td>\n",
       "      <td>NaN</td>\n",
       "      <td>2014-12-31T10:13:00</td>\n",
       "      <td>2014-12-31</td>\n",
       "      <td>5,50354E+17</td>\n",
       "      <td>Wichita Falls, TX</td>\n",
       "      <td>TX</td>\n",
       "      <td>NaN</td>\n",
       "      <td>South</td>\n",
       "    </tr>\n",
       "    <tr>\n",
       "      <th>5001</th>\n",
       "      <td>Get a new job</td>\n",
       "      <td>male</td>\n",
       "      <td>STERLINGMHOLMES</td>\n",
       "      <td>Career</td>\n",
       "      <td>0.0</td>\n",
       "      <td>@KennedyNation my #NewYearsResolution is Job, ...</td>\n",
       "      <td>NaN</td>\n",
       "      <td>2014-12-31T10:01:00</td>\n",
       "      <td>2014-12-31</td>\n",
       "      <td>5,50351E+17</td>\n",
       "      <td>Las Vegas NV</td>\n",
       "      <td>NV</td>\n",
       "      <td>Pacific Time (US &amp; Canada)</td>\n",
       "      <td>West</td>\n",
       "    </tr>\n",
       "  </tbody>\n",
       "</table>\n",
       "<p>5002 rows × 14 columns</p>\n",
       "</div>"
      ],
      "text/plain": [
       "                                      resolution_topics  gender  \\\n",
       "0                                         Eat healthier  female   \n",
       "1     Humor about Personal Growth and Interests Reso...  female   \n",
       "2                                     Be More Confident    male   \n",
       "3                                                 Other    male   \n",
       "4                                      Be more positive  female   \n",
       "...                                                 ...     ...   \n",
       "4997                                              Other  female   \n",
       "4998                                   Be more positive  female   \n",
       "4999                                              Other    male   \n",
       "5000                                              Other    male   \n",
       "5001                                      Get a new job    male   \n",
       "\n",
       "                 name   resolution_category  retweet_count  \\\n",
       "0         Dena_Marina      Health & Fitness            0.0   \n",
       "1        ninjagirl325                 Humor            1.0   \n",
       "2        RickyDelReyy       Personal Growth            0.0   \n",
       "3           CalmareNJ         Philanthropic            0.0   \n",
       "4     welovatoyoudemi       Personal Growth            0.0   \n",
       "...               ...                   ...            ...   \n",
       "4997      yates_amber  Recreation & Leisure            0.0   \n",
       "4998    LadyLiberally       Personal Growth            0.0   \n",
       "4999          sbleggi                Career            0.0   \n",
       "5000         ssl01191                 Humor            0.0   \n",
       "5001  STERLINGMHOLMES                Career            0.0   \n",
       "\n",
       "                                                   text tweet_coord  \\\n",
       "0     #NewYearsResolution :: Read more books, No scr...         NaN   \n",
       "1     #NewYearsResolution Finally master @ZJ10 's pa...         NaN   \n",
       "2     #NewYearsResolution to stop being so damn perf...         NaN   \n",
       "3     My #NewYearsResolution is to help my disabled ...         NaN   \n",
       "4     #NewYearsResolution #2015Goals #2015bucketlist...         NaN   \n",
       "...                                                 ...         ...   \n",
       "4997  #NewYearsResolution to start a hobby, do it on...         NaN   \n",
       "4998  I want 2015 2 lack entropy, become pregnant w/...         NaN   \n",
       "4999  MMT @neilwatkins05 @elledodd: \"I'm setting mys...         NaN   \n",
       "5000  Lets leave the words bae, bruh, thot, and flee...         NaN   \n",
       "5001  @KennedyNation my #NewYearsResolution is Job, ...         NaN   \n",
       "\n",
       "            tweet_created  tweet_date     tweet_id             tweet_location  \\\n",
       "0     2014-12-31T10:48:00  2014-12-31  5,50363E+17        Southern California   \n",
       "1     2014-12-31T10:47:00  2014-12-31  5,50363E+17                 New Jersey   \n",
       "2     2014-12-31T10:46:00  2014-12-31  5,50362E+17                  Hollywood   \n",
       "3     2014-12-31T10:45:00  2014-12-31  5,50362E+17                  Metro NYC   \n",
       "4     2014-12-31T10:44:00  2014-12-31  5,50362E+17  Pittsburgh, Pennsylvania    \n",
       "...                   ...         ...          ...                        ...   \n",
       "4997  2014-12-31T10:35:00  2014-12-31   5,5036E+17             louisville, ky   \n",
       "4998  2014-12-31T10:24:00  2014-12-31  5,50357E+17              Marquette, Mi   \n",
       "4999  2014-12-31T10:21:00  2014-12-31  5,50356E+17           MoCo, MD & SW DC   \n",
       "5000  2014-12-31T10:13:00  2014-12-31  5,50354E+17          Wichita Falls, TX   \n",
       "5001  2014-12-31T10:01:00  2014-12-31  5,50351E+17               Las Vegas NV   \n",
       "\n",
       "     tweet_state               user_timezone tweet_region  \n",
       "0             CA  Pacific Time (US & Canada)         West  \n",
       "1             NJ  Central Time (US & Canada)    Northeast  \n",
       "2             CA  Eastern Time (US & Canada)         West  \n",
       "3             NY                         NaN    Northeast  \n",
       "4             PA  Eastern Time (US & Canada)    Northeast  \n",
       "...          ...                         ...          ...  \n",
       "4997          KY  Eastern Time (US & Canada)        South  \n",
       "4998          MI  Eastern Time (US & Canada)      Midwest  \n",
       "4999          MD                         NaN        South  \n",
       "5000          TX                         NaN        South  \n",
       "5001          NV  Pacific Time (US & Canada)         West  \n",
       "\n",
       "[5002 rows x 14 columns]"
      ]
     },
     "execution_count": 24,
     "metadata": {},
     "output_type": "execute_result"
    }
   ],
   "source": [
    "# Verify the data set\n",
    "df"
   ]
  },
  {
   "cell_type": "code",
   "execution_count": 25,
   "metadata": {},
   "outputs": [
    {
     "data": {
      "text/plain": [
       "(5002, 14)"
      ]
     },
     "execution_count": 25,
     "metadata": {},
     "output_type": "execute_result"
    }
   ],
   "source": [
    "# Check the shape\n",
    "df.shape"
   ]
  },
  {
   "cell_type": "code",
   "execution_count": 26,
   "metadata": {},
   "outputs": [
    {
     "name": "stdout",
     "output_type": "stream",
     "text": [
      "<class 'pandas.core.frame.DataFrame'>\n",
      "RangeIndex: 5002 entries, 0 to 5001\n",
      "Data columns (total 14 columns):\n",
      " #   Column               Non-Null Count  Dtype  \n",
      "---  ------               --------------  -----  \n",
      " 0   resolution_topics    5002 non-null   object \n",
      " 1   gender               5002 non-null   object \n",
      " 2   name                 5002 non-null   object \n",
      " 3   resolution_category  5002 non-null   object \n",
      " 4   retweet_count        3136 non-null   float64\n",
      " 5   text                 5002 non-null   object \n",
      " 6   tweet_coord          227 non-null    object \n",
      " 7   tweet_created        5002 non-null   object \n",
      " 8   tweet_date           5002 non-null   object \n",
      " 9   tweet_id             5002 non-null   object \n",
      " 10  tweet_location       5002 non-null   object \n",
      " 11  tweet_state          5002 non-null   object \n",
      " 12  user_timezone        3703 non-null   object \n",
      " 13  tweet_region         5002 non-null   object \n",
      "dtypes: float64(1), object(13)\n",
      "memory usage: 547.2+ KB\n"
     ]
    }
   ],
   "source": [
    "# Data set summary\n",
    "df.info()"
   ]
  },
  {
   "cell_type": "code",
   "execution_count": 27,
   "metadata": {},
   "outputs": [
    {
     "data": {
      "text/plain": [
       "resolution_topics         0\n",
       "gender                    0\n",
       "name                      0\n",
       "resolution_category       0\n",
       "retweet_count          1866\n",
       "text                      0\n",
       "tweet_coord            4775\n",
       "tweet_created             0\n",
       "tweet_date                0\n",
       "tweet_id                  0\n",
       "tweet_location            0\n",
       "tweet_state               0\n",
       "user_timezone          1299\n",
       "tweet_region              0\n",
       "dtype: int64"
      ]
     },
     "execution_count": 27,
     "metadata": {},
     "output_type": "execute_result"
    }
   ],
   "source": [
    "# Check the number of missing data\n",
    "df.isnull().sum()"
   ]
  },
  {
   "cell_type": "markdown",
   "metadata": {},
   "source": [
    "### Drop Columns"
   ]
  },
  {
   "cell_type": "code",
   "execution_count": 28,
   "metadata": {},
   "outputs": [],
   "source": [
    "# Remove the not needed columns\n",
    "dataFrame = df.drop(columns=['name', 'retweet_count', 'text', 'tweet_coord', 'tweet_created', 'tweet_id', 'user_timezone'])"
   ]
  },
  {
   "cell_type": "code",
   "execution_count": 29,
   "metadata": {},
   "outputs": [
    {
     "data": {
      "text/html": [
       "<div>\n",
       "<style scoped>\n",
       "    .dataframe tbody tr th:only-of-type {\n",
       "        vertical-align: middle;\n",
       "    }\n",
       "\n",
       "    .dataframe tbody tr th {\n",
       "        vertical-align: top;\n",
       "    }\n",
       "\n",
       "    .dataframe thead th {\n",
       "        text-align: right;\n",
       "    }\n",
       "</style>\n",
       "<table border=\"1\" class=\"dataframe\">\n",
       "  <thead>\n",
       "    <tr style=\"text-align: right;\">\n",
       "      <th></th>\n",
       "      <th>resolution_topics</th>\n",
       "      <th>gender</th>\n",
       "      <th>resolution_category</th>\n",
       "      <th>tweet_date</th>\n",
       "      <th>tweet_location</th>\n",
       "      <th>tweet_state</th>\n",
       "      <th>tweet_region</th>\n",
       "    </tr>\n",
       "  </thead>\n",
       "  <tbody>\n",
       "    <tr>\n",
       "      <th>0</th>\n",
       "      <td>Eat healthier</td>\n",
       "      <td>female</td>\n",
       "      <td>Health &amp; Fitness</td>\n",
       "      <td>2014-12-31</td>\n",
       "      <td>Southern California</td>\n",
       "      <td>CA</td>\n",
       "      <td>West</td>\n",
       "    </tr>\n",
       "    <tr>\n",
       "      <th>1</th>\n",
       "      <td>Humor about Personal Growth and Interests Reso...</td>\n",
       "      <td>female</td>\n",
       "      <td>Humor</td>\n",
       "      <td>2014-12-31</td>\n",
       "      <td>New Jersey</td>\n",
       "      <td>NJ</td>\n",
       "      <td>Northeast</td>\n",
       "    </tr>\n",
       "    <tr>\n",
       "      <th>2</th>\n",
       "      <td>Be More Confident</td>\n",
       "      <td>male</td>\n",
       "      <td>Personal Growth</td>\n",
       "      <td>2014-12-31</td>\n",
       "      <td>Hollywood</td>\n",
       "      <td>CA</td>\n",
       "      <td>West</td>\n",
       "    </tr>\n",
       "    <tr>\n",
       "      <th>3</th>\n",
       "      <td>Other</td>\n",
       "      <td>male</td>\n",
       "      <td>Philanthropic</td>\n",
       "      <td>2014-12-31</td>\n",
       "      <td>Metro NYC</td>\n",
       "      <td>NY</td>\n",
       "      <td>Northeast</td>\n",
       "    </tr>\n",
       "    <tr>\n",
       "      <th>4</th>\n",
       "      <td>Be more positive</td>\n",
       "      <td>female</td>\n",
       "      <td>Personal Growth</td>\n",
       "      <td>2014-12-31</td>\n",
       "      <td>Pittsburgh, Pennsylvania</td>\n",
       "      <td>PA</td>\n",
       "      <td>Northeast</td>\n",
       "    </tr>\n",
       "    <tr>\n",
       "      <th>...</th>\n",
       "      <td>...</td>\n",
       "      <td>...</td>\n",
       "      <td>...</td>\n",
       "      <td>...</td>\n",
       "      <td>...</td>\n",
       "      <td>...</td>\n",
       "      <td>...</td>\n",
       "    </tr>\n",
       "    <tr>\n",
       "      <th>4997</th>\n",
       "      <td>Other</td>\n",
       "      <td>female</td>\n",
       "      <td>Recreation &amp; Leisure</td>\n",
       "      <td>2014-12-31</td>\n",
       "      <td>louisville, ky</td>\n",
       "      <td>KY</td>\n",
       "      <td>South</td>\n",
       "    </tr>\n",
       "    <tr>\n",
       "      <th>4998</th>\n",
       "      <td>Be more positive</td>\n",
       "      <td>female</td>\n",
       "      <td>Personal Growth</td>\n",
       "      <td>2014-12-31</td>\n",
       "      <td>Marquette, Mi</td>\n",
       "      <td>MI</td>\n",
       "      <td>Midwest</td>\n",
       "    </tr>\n",
       "    <tr>\n",
       "      <th>4999</th>\n",
       "      <td>Other</td>\n",
       "      <td>male</td>\n",
       "      <td>Career</td>\n",
       "      <td>2014-12-31</td>\n",
       "      <td>MoCo, MD &amp; SW DC</td>\n",
       "      <td>MD</td>\n",
       "      <td>South</td>\n",
       "    </tr>\n",
       "    <tr>\n",
       "      <th>5000</th>\n",
       "      <td>Other</td>\n",
       "      <td>male</td>\n",
       "      <td>Humor</td>\n",
       "      <td>2014-12-31</td>\n",
       "      <td>Wichita Falls, TX</td>\n",
       "      <td>TX</td>\n",
       "      <td>South</td>\n",
       "    </tr>\n",
       "    <tr>\n",
       "      <th>5001</th>\n",
       "      <td>Get a new job</td>\n",
       "      <td>male</td>\n",
       "      <td>Career</td>\n",
       "      <td>2014-12-31</td>\n",
       "      <td>Las Vegas NV</td>\n",
       "      <td>NV</td>\n",
       "      <td>West</td>\n",
       "    </tr>\n",
       "  </tbody>\n",
       "</table>\n",
       "<p>5002 rows × 7 columns</p>\n",
       "</div>"
      ],
      "text/plain": [
       "                                      resolution_topics  gender  \\\n",
       "0                                         Eat healthier  female   \n",
       "1     Humor about Personal Growth and Interests Reso...  female   \n",
       "2                                     Be More Confident    male   \n",
       "3                                                 Other    male   \n",
       "4                                      Be more positive  female   \n",
       "...                                                 ...     ...   \n",
       "4997                                              Other  female   \n",
       "4998                                   Be more positive  female   \n",
       "4999                                              Other    male   \n",
       "5000                                              Other    male   \n",
       "5001                                      Get a new job    male   \n",
       "\n",
       "       resolution_category  tweet_date             tweet_location tweet_state  \\\n",
       "0         Health & Fitness  2014-12-31        Southern California          CA   \n",
       "1                    Humor  2014-12-31                 New Jersey          NJ   \n",
       "2          Personal Growth  2014-12-31                  Hollywood          CA   \n",
       "3            Philanthropic  2014-12-31                  Metro NYC          NY   \n",
       "4          Personal Growth  2014-12-31  Pittsburgh, Pennsylvania           PA   \n",
       "...                    ...         ...                        ...         ...   \n",
       "4997  Recreation & Leisure  2014-12-31             louisville, ky          KY   \n",
       "4998       Personal Growth  2014-12-31              Marquette, Mi          MI   \n",
       "4999                Career  2014-12-31           MoCo, MD & SW DC          MD   \n",
       "5000                 Humor  2014-12-31          Wichita Falls, TX          TX   \n",
       "5001                Career  2014-12-31               Las Vegas NV          NV   \n",
       "\n",
       "     tweet_region  \n",
       "0            West  \n",
       "1       Northeast  \n",
       "2            West  \n",
       "3       Northeast  \n",
       "4       Northeast  \n",
       "...           ...  \n",
       "4997        South  \n",
       "4998      Midwest  \n",
       "4999        South  \n",
       "5000        South  \n",
       "5001         West  \n",
       "\n",
       "[5002 rows x 7 columns]"
      ]
     },
     "execution_count": 29,
     "metadata": {},
     "output_type": "execute_result"
    }
   ],
   "source": [
    "# Verify the data\n",
    "dataFrame"
   ]
  },
  {
   "cell_type": "code",
   "execution_count": 21,
   "metadata": {},
   "outputs": [
    {
     "data": {
      "text/plain": [
       "resolution_topics      0\n",
       "gender                 0\n",
       "resolution_category    0\n",
       "tweet_date             0\n",
       "tweet_location         0\n",
       "tweet_state            0\n",
       "tweet_region           0\n",
       "dtype: int64"
      ]
     },
     "execution_count": 21,
     "metadata": {},
     "output_type": "execute_result"
    }
   ],
   "source": [
    "# Check if there are still missing data\n",
    "dataFrame.isnull().sum()"
   ]
  },
  {
   "cell_type": "code",
   "execution_count": 22,
   "metadata": {},
   "outputs": [
    {
     "data": {
      "text/plain": [
       "5002"
      ]
     },
     "execution_count": 22,
     "metadata": {},
     "output_type": "execute_result"
    }
   ],
   "source": [
    "# Number of new year's resolution\n",
    "dataFrame['resolution_topics'].count()"
   ]
  },
  {
   "cell_type": "markdown",
   "metadata": {},
   "source": [
    "### Tweets by date"
   ]
  },
  {
   "cell_type": "code",
   "execution_count": 43,
   "metadata": {},
   "outputs": [],
   "source": [
    "# Group all the same tweet date\n",
    "tweetDate = dataFrame.groupby('tweet_date').count()"
   ]
  },
  {
   "cell_type": "code",
   "execution_count": 48,
   "metadata": {},
   "outputs": [],
   "source": [
    "# Reset the index\n",
    "tweetDate.reset_index(inplace=True)"
   ]
  },
  {
   "cell_type": "code",
   "execution_count": 49,
   "metadata": {},
   "outputs": [
    {
     "data": {
      "text/html": [
       "<div>\n",
       "<style scoped>\n",
       "    .dataframe tbody tr th:only-of-type {\n",
       "        vertical-align: middle;\n",
       "    }\n",
       "\n",
       "    .dataframe tbody tr th {\n",
       "        vertical-align: top;\n",
       "    }\n",
       "\n",
       "    .dataframe thead th {\n",
       "        text-align: right;\n",
       "    }\n",
       "</style>\n",
       "<table border=\"1\" class=\"dataframe\">\n",
       "  <thead>\n",
       "    <tr style=\"text-align: right;\">\n",
       "      <th></th>\n",
       "      <th>tweet_date</th>\n",
       "      <th>resolution_topics</th>\n",
       "    </tr>\n",
       "  </thead>\n",
       "  <tbody>\n",
       "    <tr>\n",
       "      <th>0</th>\n",
       "      <td>2014-12-21</td>\n",
       "      <td>23</td>\n",
       "    </tr>\n",
       "    <tr>\n",
       "      <th>1</th>\n",
       "      <td>2014-12-22</td>\n",
       "      <td>70</td>\n",
       "    </tr>\n",
       "    <tr>\n",
       "      <th>2</th>\n",
       "      <td>2014-12-23</td>\n",
       "      <td>107</td>\n",
       "    </tr>\n",
       "    <tr>\n",
       "      <th>3</th>\n",
       "      <td>2014-12-24</td>\n",
       "      <td>71</td>\n",
       "    </tr>\n",
       "    <tr>\n",
       "      <th>4</th>\n",
       "      <td>2014-12-25</td>\n",
       "      <td>59</td>\n",
       "    </tr>\n",
       "    <tr>\n",
       "      <th>5</th>\n",
       "      <td>2014-12-26</td>\n",
       "      <td>142</td>\n",
       "    </tr>\n",
       "    <tr>\n",
       "      <th>6</th>\n",
       "      <td>2014-12-27</td>\n",
       "      <td>237</td>\n",
       "    </tr>\n",
       "    <tr>\n",
       "      <th>7</th>\n",
       "      <td>2014-12-28</td>\n",
       "      <td>256</td>\n",
       "    </tr>\n",
       "    <tr>\n",
       "      <th>8</th>\n",
       "      <td>2014-12-29</td>\n",
       "      <td>478</td>\n",
       "    </tr>\n",
       "    <tr>\n",
       "      <th>9</th>\n",
       "      <td>2014-12-30</td>\n",
       "      <td>383</td>\n",
       "    </tr>\n",
       "    <tr>\n",
       "      <th>10</th>\n",
       "      <td>2014-12-31</td>\n",
       "      <td>1529</td>\n",
       "    </tr>\n",
       "    <tr>\n",
       "      <th>11</th>\n",
       "      <td>2015-01-01</td>\n",
       "      <td>1272</td>\n",
       "    </tr>\n",
       "    <tr>\n",
       "      <th>12</th>\n",
       "      <td>2015-01-02</td>\n",
       "      <td>375</td>\n",
       "    </tr>\n",
       "  </tbody>\n",
       "</table>\n",
       "</div>"
      ],
      "text/plain": [
       "    tweet_date  resolution_topics\n",
       "0   2014-12-21                 23\n",
       "1   2014-12-22                 70\n",
       "2   2014-12-23                107\n",
       "3   2014-12-24                 71\n",
       "4   2014-12-25                 59\n",
       "5   2014-12-26                142\n",
       "6   2014-12-27                237\n",
       "7   2014-12-28                256\n",
       "8   2014-12-29                478\n",
       "9   2014-12-30                383\n",
       "10  2014-12-31               1529\n",
       "11  2015-01-01               1272\n",
       "12  2015-01-02                375"
      ]
     },
     "execution_count": 49,
     "metadata": {},
     "output_type": "execute_result"
    }
   ],
   "source": [
    "# Verify the data\n",
    "tweetDate[['tweet_date', 'resolution_topics']]"
   ]
  },
  {
   "cell_type": "code",
   "execution_count": 53,
   "metadata": {},
   "outputs": [
    {
     "data": {
      "text/plain": [
       "'2014-12-21'"
      ]
     },
     "execution_count": 53,
     "metadata": {},
     "output_type": "execute_result"
    }
   ],
   "source": [
    "# Earliest tweet\n",
    "tweetDate['tweet_date'].min()"
   ]
  },
  {
   "cell_type": "code",
   "execution_count": 51,
   "metadata": {},
   "outputs": [
    {
     "data": {
      "text/plain": [
       "'2015-01-02'"
      ]
     },
     "execution_count": 51,
     "metadata": {},
     "output_type": "execute_result"
    }
   ],
   "source": [
    "# Last tweet\n",
    "tweetDate['tweet_date'].max()"
   ]
  },
  {
   "cell_type": "code",
   "execution_count": 100,
   "metadata": {},
   "outputs": [
    {
     "data": {
      "text/html": [
       "<div>\n",
       "<style scoped>\n",
       "    .dataframe tbody tr th:only-of-type {\n",
       "        vertical-align: middle;\n",
       "    }\n",
       "\n",
       "    .dataframe tbody tr th {\n",
       "        vertical-align: top;\n",
       "    }\n",
       "\n",
       "    .dataframe thead th {\n",
       "        text-align: right;\n",
       "    }\n",
       "</style>\n",
       "<table border=\"1\" class=\"dataframe\">\n",
       "  <thead>\n",
       "    <tr style=\"text-align: right;\">\n",
       "      <th></th>\n",
       "      <th>tweet_date</th>\n",
       "      <th>resolution_topics</th>\n",
       "    </tr>\n",
       "  </thead>\n",
       "  <tbody>\n",
       "    <tr>\n",
       "      <th>10</th>\n",
       "      <td>2014-12-31</td>\n",
       "      <td>1529</td>\n",
       "    </tr>\n",
       "    <tr>\n",
       "      <th>11</th>\n",
       "      <td>2015-01-01</td>\n",
       "      <td>1272</td>\n",
       "    </tr>\n",
       "    <tr>\n",
       "      <th>8</th>\n",
       "      <td>2014-12-29</td>\n",
       "      <td>478</td>\n",
       "    </tr>\n",
       "  </tbody>\n",
       "</table>\n",
       "</div>"
      ],
      "text/plain": [
       "    tweet_date  resolution_topics\n",
       "10  2014-12-31               1529\n",
       "11  2015-01-01               1272\n",
       "8   2014-12-29                478"
      ]
     },
     "execution_count": 100,
     "metadata": {},
     "output_type": "execute_result"
    }
   ],
   "source": [
    "# Top 3 highest tweet by date\n",
    "tweetDate.sort_values(ascending=False, by=['resolution_topics']).head(3)[['tweet_date', 'resolution_topics']]"
   ]
  },
  {
   "cell_type": "code",
   "execution_count": 58,
   "metadata": {},
   "outputs": [
    {
     "data": {
      "image/png": "[encoded data removed]",
      "text/plain": [
       "<Figure size 720x360 with 1 Axes>"
      ]
     },
     "metadata": {
      "needs_background": "light"
     },
     "output_type": "display_data"
    }
   ],
   "source": [
    "# Visualize\n",
    "plt.figure(figsize=(10,5)) # Adjust the size of the graph\n",
    "tweetDatePlot = sns.lineplot(data=tweetDate, x='tweet_date', y='resolution_topics')\n",
    "tweetDatePlot.tick_params(axis='x', rotation=90)"
   ]
  },
  {
   "cell_type": "markdown",
   "metadata": {},
   "source": [
    "### Tweets per State"
   ]
  },
  {
   "cell_type": "code",
   "execution_count": 60,
   "metadata": {},
   "outputs": [],
   "source": [
    "# Group all the same tweet state\n",
    "tweetState = dataFrame.groupby('tweet_state').count()"
   ]
  },
  {
   "cell_type": "code",
   "execution_count": 67,
   "metadata": {},
   "outputs": [],
   "source": [
    "# Reset the index\n",
    "tweetState.reset_index(inplace=True)"
   ]
  },
  {
   "cell_type": "code",
   "execution_count": 68,
   "metadata": {},
   "outputs": [
    {
     "data": {
      "text/html": [
       "<div>\n",
       "<style scoped>\n",
       "    .dataframe tbody tr th:only-of-type {\n",
       "        vertical-align: middle;\n",
       "    }\n",
       "\n",
       "    .dataframe tbody tr th {\n",
       "        vertical-align: top;\n",
       "    }\n",
       "\n",
       "    .dataframe thead th {\n",
       "        text-align: right;\n",
       "    }\n",
       "</style>\n",
       "<table border=\"1\" class=\"dataframe\">\n",
       "  <thead>\n",
       "    <tr style=\"text-align: right;\">\n",
       "      <th></th>\n",
       "      <th>tweet_state</th>\n",
       "      <th>resolution_topics</th>\n",
       "    </tr>\n",
       "  </thead>\n",
       "  <tbody>\n",
       "    <tr>\n",
       "      <th>0</th>\n",
       "      <td>AK</td>\n",
       "      <td>17</td>\n",
       "    </tr>\n",
       "    <tr>\n",
       "      <th>1</th>\n",
       "      <td>AL</td>\n",
       "      <td>36</td>\n",
       "    </tr>\n",
       "    <tr>\n",
       "      <th>2</th>\n",
       "      <td>AR</td>\n",
       "      <td>19</td>\n",
       "    </tr>\n",
       "    <tr>\n",
       "      <th>3</th>\n",
       "      <td>AZ</td>\n",
       "      <td>96</td>\n",
       "    </tr>\n",
       "    <tr>\n",
       "      <th>4</th>\n",
       "      <td>CA</td>\n",
       "      <td>739</td>\n",
       "    </tr>\n",
       "    <tr>\n",
       "      <th>5</th>\n",
       "      <td>CO</td>\n",
       "      <td>80</td>\n",
       "    </tr>\n",
       "    <tr>\n",
       "      <th>6</th>\n",
       "      <td>CT</td>\n",
       "      <td>55</td>\n",
       "    </tr>\n",
       "    <tr>\n",
       "      <th>7</th>\n",
       "      <td>DC</td>\n",
       "      <td>51</td>\n",
       "    </tr>\n",
       "    <tr>\n",
       "      <th>8</th>\n",
       "      <td>DE</td>\n",
       "      <td>6</td>\n",
       "    </tr>\n",
       "    <tr>\n",
       "      <th>9</th>\n",
       "      <td>FL</td>\n",
       "      <td>258</td>\n",
       "    </tr>\n",
       "    <tr>\n",
       "      <th>10</th>\n",
       "      <td>GA</td>\n",
       "      <td>137</td>\n",
       "    </tr>\n",
       "    <tr>\n",
       "      <th>11</th>\n",
       "      <td>HI</td>\n",
       "      <td>19</td>\n",
       "    </tr>\n",
       "    <tr>\n",
       "      <th>12</th>\n",
       "      <td>IA</td>\n",
       "      <td>42</td>\n",
       "    </tr>\n",
       "    <tr>\n",
       "      <th>13</th>\n",
       "      <td>ID</td>\n",
       "      <td>15</td>\n",
       "    </tr>\n",
       "    <tr>\n",
       "      <th>14</th>\n",
       "      <td>IL</td>\n",
       "      <td>211</td>\n",
       "    </tr>\n",
       "    <tr>\n",
       "      <th>15</th>\n",
       "      <td>IN</td>\n",
       "      <td>82</td>\n",
       "    </tr>\n",
       "    <tr>\n",
       "      <th>16</th>\n",
       "      <td>KS</td>\n",
       "      <td>51</td>\n",
       "    </tr>\n",
       "    <tr>\n",
       "      <th>17</th>\n",
       "      <td>KY</td>\n",
       "      <td>72</td>\n",
       "    </tr>\n",
       "    <tr>\n",
       "      <th>18</th>\n",
       "      <td>LA</td>\n",
       "      <td>70</td>\n",
       "    </tr>\n",
       "    <tr>\n",
       "      <th>19</th>\n",
       "      <td>MA</td>\n",
       "      <td>156</td>\n",
       "    </tr>\n",
       "    <tr>\n",
       "      <th>20</th>\n",
       "      <td>MD</td>\n",
       "      <td>83</td>\n",
       "    </tr>\n",
       "    <tr>\n",
       "      <th>21</th>\n",
       "      <td>ME</td>\n",
       "      <td>17</td>\n",
       "    </tr>\n",
       "    <tr>\n",
       "      <th>22</th>\n",
       "      <td>MI</td>\n",
       "      <td>162</td>\n",
       "    </tr>\n",
       "    <tr>\n",
       "      <th>23</th>\n",
       "      <td>MN</td>\n",
       "      <td>90</td>\n",
       "    </tr>\n",
       "    <tr>\n",
       "      <th>24</th>\n",
       "      <td>MO</td>\n",
       "      <td>70</td>\n",
       "    </tr>\n",
       "    <tr>\n",
       "      <th>25</th>\n",
       "      <td>MS</td>\n",
       "      <td>23</td>\n",
       "    </tr>\n",
       "    <tr>\n",
       "      <th>26</th>\n",
       "      <td>MT</td>\n",
       "      <td>6</td>\n",
       "    </tr>\n",
       "    <tr>\n",
       "      <th>27</th>\n",
       "      <td>NC</td>\n",
       "      <td>117</td>\n",
       "    </tr>\n",
       "    <tr>\n",
       "      <th>28</th>\n",
       "      <td>ND</td>\n",
       "      <td>3</td>\n",
       "    </tr>\n",
       "    <tr>\n",
       "      <th>29</th>\n",
       "      <td>NE</td>\n",
       "      <td>22</td>\n",
       "    </tr>\n",
       "    <tr>\n",
       "      <th>30</th>\n",
       "      <td>NH</td>\n",
       "      <td>14</td>\n",
       "    </tr>\n",
       "    <tr>\n",
       "      <th>31</th>\n",
       "      <td>NJ</td>\n",
       "      <td>94</td>\n",
       "    </tr>\n",
       "    <tr>\n",
       "      <th>32</th>\n",
       "      <td>NM</td>\n",
       "      <td>18</td>\n",
       "    </tr>\n",
       "    <tr>\n",
       "      <th>33</th>\n",
       "      <td>NV</td>\n",
       "      <td>63</td>\n",
       "    </tr>\n",
       "    <tr>\n",
       "      <th>34</th>\n",
       "      <td>NY</td>\n",
       "      <td>541</td>\n",
       "    </tr>\n",
       "    <tr>\n",
       "      <th>35</th>\n",
       "      <td>OH</td>\n",
       "      <td>195</td>\n",
       "    </tr>\n",
       "    <tr>\n",
       "      <th>36</th>\n",
       "      <td>OK</td>\n",
       "      <td>38</td>\n",
       "    </tr>\n",
       "    <tr>\n",
       "      <th>37</th>\n",
       "      <td>OR</td>\n",
       "      <td>74</td>\n",
       "    </tr>\n",
       "    <tr>\n",
       "      <th>38</th>\n",
       "      <td>PA</td>\n",
       "      <td>169</td>\n",
       "    </tr>\n",
       "    <tr>\n",
       "      <th>39</th>\n",
       "      <td>RI</td>\n",
       "      <td>15</td>\n",
       "    </tr>\n",
       "    <tr>\n",
       "      <th>40</th>\n",
       "      <td>SC</td>\n",
       "      <td>50</td>\n",
       "    </tr>\n",
       "    <tr>\n",
       "      <th>41</th>\n",
       "      <td>SD</td>\n",
       "      <td>13</td>\n",
       "    </tr>\n",
       "    <tr>\n",
       "      <th>42</th>\n",
       "      <td>TN</td>\n",
       "      <td>113</td>\n",
       "    </tr>\n",
       "    <tr>\n",
       "      <th>43</th>\n",
       "      <td>TX</td>\n",
       "      <td>401</td>\n",
       "    </tr>\n",
       "    <tr>\n",
       "      <th>44</th>\n",
       "      <td>UT</td>\n",
       "      <td>43</td>\n",
       "    </tr>\n",
       "    <tr>\n",
       "      <th>45</th>\n",
       "      <td>VA</td>\n",
       "      <td>122</td>\n",
       "    </tr>\n",
       "    <tr>\n",
       "      <th>46</th>\n",
       "      <td>VT</td>\n",
       "      <td>9</td>\n",
       "    </tr>\n",
       "    <tr>\n",
       "      <th>47</th>\n",
       "      <td>WA</td>\n",
       "      <td>116</td>\n",
       "    </tr>\n",
       "    <tr>\n",
       "      <th>48</th>\n",
       "      <td>WI</td>\n",
       "      <td>75</td>\n",
       "    </tr>\n",
       "    <tr>\n",
       "      <th>49</th>\n",
       "      <td>WV</td>\n",
       "      <td>25</td>\n",
       "    </tr>\n",
       "    <tr>\n",
       "      <th>50</th>\n",
       "      <td>WY</td>\n",
       "      <td>9</td>\n",
       "    </tr>\n",
       "  </tbody>\n",
       "</table>\n",
       "</div>"
      ],
      "text/plain": [
       "   tweet_state  resolution_topics\n",
       "0           AK                 17\n",
       "1           AL                 36\n",
       "2           AR                 19\n",
       "3           AZ                 96\n",
       "4           CA                739\n",
       "5           CO                 80\n",
       "6           CT                 55\n",
       "7           DC                 51\n",
       "8           DE                  6\n",
       "9           FL                258\n",
       "10          GA                137\n",
       "11          HI                 19\n",
       "12          IA                 42\n",
       "13          ID                 15\n",
       "14          IL                211\n",
       "15          IN                 82\n",
       "16          KS                 51\n",
       "17          KY                 72\n",
       "18          LA                 70\n",
       "19          MA                156\n",
       "20          MD                 83\n",
       "21          ME                 17\n",
       "22          MI                162\n",
       "23          MN                 90\n",
       "24          MO                 70\n",
       "25          MS                 23\n",
       "26          MT                  6\n",
       "27          NC                117\n",
       "28          ND                  3\n",
       "29          NE                 22\n",
       "30          NH                 14\n",
       "31          NJ                 94\n",
       "32          NM                 18\n",
       "33          NV                 63\n",
       "34          NY                541\n",
       "35          OH                195\n",
       "36          OK                 38\n",
       "37          OR                 74\n",
       "38          PA                169\n",
       "39          RI                 15\n",
       "40          SC                 50\n",
       "41          SD                 13\n",
       "42          TN                113\n",
       "43          TX                401\n",
       "44          UT                 43\n",
       "45          VA                122\n",
       "46          VT                  9\n",
       "47          WA                116\n",
       "48          WI                 75\n",
       "49          WV                 25\n",
       "50          WY                  9"
      ]
     },
     "execution_count": 68,
     "metadata": {},
     "output_type": "execute_result"
    }
   ],
   "source": [
    "# Verify the data\n",
    "tweetState[['tweet_state', 'resolution_topics']]"
   ]
  },
  {
   "cell_type": "code",
   "execution_count": 69,
   "metadata": {},
   "outputs": [
    {
     "data": {
      "text/html": [
       "<div>\n",
       "<style scoped>\n",
       "    .dataframe tbody tr th:only-of-type {\n",
       "        vertical-align: middle;\n",
       "    }\n",
       "\n",
       "    .dataframe tbody tr th {\n",
       "        vertical-align: top;\n",
       "    }\n",
       "\n",
       "    .dataframe thead th {\n",
       "        text-align: right;\n",
       "    }\n",
       "</style>\n",
       "<table border=\"1\" class=\"dataframe\">\n",
       "  <thead>\n",
       "    <tr style=\"text-align: right;\">\n",
       "      <th></th>\n",
       "      <th>tweet_state</th>\n",
       "      <th>resolution_topics</th>\n",
       "    </tr>\n",
       "  </thead>\n",
       "  <tbody>\n",
       "    <tr>\n",
       "      <th>4</th>\n",
       "      <td>CA</td>\n",
       "      <td>739</td>\n",
       "    </tr>\n",
       "  </tbody>\n",
       "</table>\n",
       "</div>"
      ],
      "text/plain": [
       "  tweet_state  resolution_topics\n",
       "4          CA                739"
      ]
     },
     "execution_count": 69,
     "metadata": {},
     "output_type": "execute_result"
    }
   ],
   "source": [
    "# Highest number of tweets by state\n",
    "tweetState[tweetState.resolution_topics == tweetState.resolution_topics.max()][['tweet_state', 'resolution_topics']]"
   ]
  },
  {
   "cell_type": "code",
   "execution_count": 70,
   "metadata": {},
   "outputs": [
    {
     "data": {
      "text/html": [
       "<div>\n",
       "<style scoped>\n",
       "    .dataframe tbody tr th:only-of-type {\n",
       "        vertical-align: middle;\n",
       "    }\n",
       "\n",
       "    .dataframe tbody tr th {\n",
       "        vertical-align: top;\n",
       "    }\n",
       "\n",
       "    .dataframe thead th {\n",
       "        text-align: right;\n",
       "    }\n",
       "</style>\n",
       "<table border=\"1\" class=\"dataframe\">\n",
       "  <thead>\n",
       "    <tr style=\"text-align: right;\">\n",
       "      <th></th>\n",
       "      <th>tweet_state</th>\n",
       "      <th>resolution_topics</th>\n",
       "    </tr>\n",
       "  </thead>\n",
       "  <tbody>\n",
       "    <tr>\n",
       "      <th>28</th>\n",
       "      <td>ND</td>\n",
       "      <td>3</td>\n",
       "    </tr>\n",
       "  </tbody>\n",
       "</table>\n",
       "</div>"
      ],
      "text/plain": [
       "   tweet_state  resolution_topics\n",
       "28          ND                  3"
      ]
     },
     "execution_count": 70,
     "metadata": {},
     "output_type": "execute_result"
    }
   ],
   "source": [
    "# Lowest number of tweets by state\n",
    "tweetState[tweetState.resolution_topics == tweetState.resolution_topics.min()][['tweet_state', 'resolution_topics']]"
   ]
  },
  {
   "cell_type": "code",
   "execution_count": 71,
   "metadata": {},
   "outputs": [
    {
     "data": {
      "text/html": [
       "<div>\n",
       "<style scoped>\n",
       "    .dataframe tbody tr th:only-of-type {\n",
       "        vertical-align: middle;\n",
       "    }\n",
       "\n",
       "    .dataframe tbody tr th {\n",
       "        vertical-align: top;\n",
       "    }\n",
       "\n",
       "    .dataframe thead th {\n",
       "        text-align: right;\n",
       "    }\n",
       "</style>\n",
       "<table border=\"1\" class=\"dataframe\">\n",
       "  <thead>\n",
       "    <tr style=\"text-align: right;\">\n",
       "      <th></th>\n",
       "      <th>tweet_state</th>\n",
       "      <th>resolution_topics</th>\n",
       "    </tr>\n",
       "  </thead>\n",
       "  <tbody>\n",
       "    <tr>\n",
       "      <th>4</th>\n",
       "      <td>CA</td>\n",
       "      <td>739</td>\n",
       "    </tr>\n",
       "    <tr>\n",
       "      <th>34</th>\n",
       "      <td>NY</td>\n",
       "      <td>541</td>\n",
       "    </tr>\n",
       "    <tr>\n",
       "      <th>43</th>\n",
       "      <td>TX</td>\n",
       "      <td>401</td>\n",
       "    </tr>\n",
       "    <tr>\n",
       "      <th>9</th>\n",
       "      <td>FL</td>\n",
       "      <td>258</td>\n",
       "    </tr>\n",
       "    <tr>\n",
       "      <th>14</th>\n",
       "      <td>IL</td>\n",
       "      <td>211</td>\n",
       "    </tr>\n",
       "  </tbody>\n",
       "</table>\n",
       "</div>"
      ],
      "text/plain": [
       "   tweet_state  resolution_topics\n",
       "4           CA                739\n",
       "34          NY                541\n",
       "43          TX                401\n",
       "9           FL                258\n",
       "14          IL                211"
      ]
     },
     "execution_count": 71,
     "metadata": {},
     "output_type": "execute_result"
    }
   ],
   "source": [
    "# Top 5 highest tweets by state\n",
    "tweetState[['tweet_state', 'resolution_topics']].sort_values(by='resolution_topics', ascending=False).head(5)"
   ]
  },
  {
   "cell_type": "code",
   "execution_count": 72,
   "metadata": {},
   "outputs": [
    {
     "data": {
      "text/html": [
       "<div>\n",
       "<style scoped>\n",
       "    .dataframe tbody tr th:only-of-type {\n",
       "        vertical-align: middle;\n",
       "    }\n",
       "\n",
       "    .dataframe tbody tr th {\n",
       "        vertical-align: top;\n",
       "    }\n",
       "\n",
       "    .dataframe thead th {\n",
       "        text-align: right;\n",
       "    }\n",
       "</style>\n",
       "<table border=\"1\" class=\"dataframe\">\n",
       "  <thead>\n",
       "    <tr style=\"text-align: right;\">\n",
       "      <th></th>\n",
       "      <th>tweet_state</th>\n",
       "      <th>resolution_topics</th>\n",
       "    </tr>\n",
       "  </thead>\n",
       "  <tbody>\n",
       "    <tr>\n",
       "      <th>28</th>\n",
       "      <td>ND</td>\n",
       "      <td>3</td>\n",
       "    </tr>\n",
       "    <tr>\n",
       "      <th>26</th>\n",
       "      <td>MT</td>\n",
       "      <td>6</td>\n",
       "    </tr>\n",
       "    <tr>\n",
       "      <th>8</th>\n",
       "      <td>DE</td>\n",
       "      <td>6</td>\n",
       "    </tr>\n",
       "    <tr>\n",
       "      <th>50</th>\n",
       "      <td>WY</td>\n",
       "      <td>9</td>\n",
       "    </tr>\n",
       "    <tr>\n",
       "      <th>46</th>\n",
       "      <td>VT</td>\n",
       "      <td>9</td>\n",
       "    </tr>\n",
       "  </tbody>\n",
       "</table>\n",
       "</div>"
      ],
      "text/plain": [
       "   tweet_state  resolution_topics\n",
       "28          ND                  3\n",
       "26          MT                  6\n",
       "8           DE                  6\n",
       "50          WY                  9\n",
       "46          VT                  9"
      ]
     },
     "execution_count": 72,
     "metadata": {},
     "output_type": "execute_result"
    }
   ],
   "source": [
    "# 5 least tweets by state\n",
    "tweetState[['tweet_state', 'resolution_topics']].sort_values(by='resolution_topics').head(5)"
   ]
  },
  {
   "cell_type": "code",
   "execution_count": 73,
   "metadata": {},
   "outputs": [
    {
     "data": {
      "text/plain": [
       "<AxesSubplot:xlabel='tweet_state', ylabel='resolution_topics'>"
      ]
     },
     "execution_count": 73,
     "metadata": {},
     "output_type": "execute_result"
    },
    {
     "data": {
      "image/png": "[encoded data removed]",
      "text/plain": [
       "<Figure size 1440x360 with 1 Axes>"
      ]
     },
     "metadata": {
      "needs_background": "light"
     },
     "output_type": "display_data"
    }
   ],
   "source": [
    "# Visualize\n",
    "plt.figure(figsize=(20,5))\n",
    "sns.barplot(data=tweetState, x='tweet_state', y='resolution_topics')"
   ]
  },
  {
   "cell_type": "markdown",
   "metadata": {},
   "source": [
    "### Tweets per Region"
   ]
  },
  {
   "cell_type": "code",
   "execution_count": 75,
   "metadata": {},
   "outputs": [],
   "source": [
    "# Group all the same region\n",
    "tweetRegion = dataFrame.groupby('tweet_region').count()"
   ]
  },
  {
   "cell_type": "code",
   "execution_count": 76,
   "metadata": {},
   "outputs": [],
   "source": [
    "# Reset the index\n",
    "tweetRegion.reset_index(inplace=True)"
   ]
  },
  {
   "cell_type": "code",
   "execution_count": 77,
   "metadata": {},
   "outputs": [
    {
     "data": {
      "text/html": [
       "<div>\n",
       "<style scoped>\n",
       "    .dataframe tbody tr th:only-of-type {\n",
       "        vertical-align: middle;\n",
       "    }\n",
       "\n",
       "    .dataframe tbody tr th {\n",
       "        vertical-align: top;\n",
       "    }\n",
       "\n",
       "    .dataframe thead th {\n",
       "        text-align: right;\n",
       "    }\n",
       "</style>\n",
       "<table border=\"1\" class=\"dataframe\">\n",
       "  <thead>\n",
       "    <tr style=\"text-align: right;\">\n",
       "      <th></th>\n",
       "      <th>tweet_region</th>\n",
       "      <th>resolution_topics</th>\n",
       "    </tr>\n",
       "  </thead>\n",
       "  <tbody>\n",
       "    <tr>\n",
       "      <th>0</th>\n",
       "      <td>Midwest</td>\n",
       "      <td>1016</td>\n",
       "    </tr>\n",
       "    <tr>\n",
       "      <th>1</th>\n",
       "      <td>Northeast</td>\n",
       "      <td>1070</td>\n",
       "    </tr>\n",
       "    <tr>\n",
       "      <th>2</th>\n",
       "      <td>South</td>\n",
       "      <td>1621</td>\n",
       "    </tr>\n",
       "    <tr>\n",
       "      <th>3</th>\n",
       "      <td>West</td>\n",
       "      <td>1295</td>\n",
       "    </tr>\n",
       "  </tbody>\n",
       "</table>\n",
       "</div>"
      ],
      "text/plain": [
       "  tweet_region  resolution_topics\n",
       "0      Midwest               1016\n",
       "1    Northeast               1070\n",
       "2        South               1621\n",
       "3         West               1295"
      ]
     },
     "execution_count": 77,
     "metadata": {},
     "output_type": "execute_result"
    }
   ],
   "source": [
    "# Verify the data\n",
    "tweetRegion[['tweet_region', 'resolution_topics']]"
   ]
  },
  {
   "cell_type": "code",
   "execution_count": 78,
   "metadata": {},
   "outputs": [
    {
     "data": {
      "text/html": [
       "<div>\n",
       "<style scoped>\n",
       "    .dataframe tbody tr th:only-of-type {\n",
       "        vertical-align: middle;\n",
       "    }\n",
       "\n",
       "    .dataframe tbody tr th {\n",
       "        vertical-align: top;\n",
       "    }\n",
       "\n",
       "    .dataframe thead th {\n",
       "        text-align: right;\n",
       "    }\n",
       "</style>\n",
       "<table border=\"1\" class=\"dataframe\">\n",
       "  <thead>\n",
       "    <tr style=\"text-align: right;\">\n",
       "      <th></th>\n",
       "      <th>tweet_region</th>\n",
       "      <th>resolution_topics</th>\n",
       "    </tr>\n",
       "  </thead>\n",
       "  <tbody>\n",
       "    <tr>\n",
       "      <th>2</th>\n",
       "      <td>South</td>\n",
       "      <td>1621</td>\n",
       "    </tr>\n",
       "    <tr>\n",
       "      <th>3</th>\n",
       "      <td>West</td>\n",
       "      <td>1295</td>\n",
       "    </tr>\n",
       "    <tr>\n",
       "      <th>1</th>\n",
       "      <td>Northeast</td>\n",
       "      <td>1070</td>\n",
       "    </tr>\n",
       "    <tr>\n",
       "      <th>0</th>\n",
       "      <td>Midwest</td>\n",
       "      <td>1016</td>\n",
       "    </tr>\n",
       "  </tbody>\n",
       "</table>\n",
       "</div>"
      ],
      "text/plain": [
       "  tweet_region  resolution_topics\n",
       "2        South               1621\n",
       "3         West               1295\n",
       "1    Northeast               1070\n",
       "0      Midwest               1016"
      ]
     },
     "execution_count": 78,
     "metadata": {},
     "output_type": "execute_result"
    }
   ],
   "source": [
    "# Arranging the result from highest to lowest\n",
    "tweetRegion[['tweet_region', 'resolution_topics']].sort_values(by='resolution_topics', ascending=False)"
   ]
  },
  {
   "cell_type": "code",
   "execution_count": 79,
   "metadata": {},
   "outputs": [
    {
     "data": {
      "text/plain": [
       "<AxesSubplot:xlabel='resolution_topics', ylabel='tweet_region'>"
      ]
     },
     "execution_count": 79,
     "metadata": {},
     "output_type": "execute_result"
    },
    {
     "data": {
      "image/png": "[encoded data removed]",
      "text/plain": [
       "<Figure size 720x360 with 1 Axes>"
      ]
     },
     "metadata": {
      "needs_background": "light"
     },
     "output_type": "display_data"
    }
   ],
   "source": [
    "# Visualize\n",
    "plt.figure(figsize=(10,5))\n",
    "sns.barplot(data=tweetRegion, x='resolution_topics', y='tweet_region')"
   ]
  },
  {
   "cell_type": "markdown",
   "metadata": {},
   "source": [
    "### Tweets by Gender"
   ]
  },
  {
   "cell_type": "code",
   "execution_count": 84,
   "metadata": {},
   "outputs": [],
   "source": [
    "# Group all the same gender\n",
    "tweetGender = dataFrame.groupby('gender').count()"
   ]
  },
  {
   "cell_type": "code",
   "execution_count": 85,
   "metadata": {},
   "outputs": [],
   "source": [
    "# Reset the index\n",
    "tweetGender.reset_index(inplace=True)"
   ]
  },
  {
   "cell_type": "code",
   "execution_count": 81,
   "metadata": {},
   "outputs": [
    {
     "data": {
      "text/html": [
       "<div>\n",
       "<style scoped>\n",
       "    .dataframe tbody tr th:only-of-type {\n",
       "        vertical-align: middle;\n",
       "    }\n",
       "\n",
       "    .dataframe tbody tr th {\n",
       "        vertical-align: top;\n",
       "    }\n",
       "\n",
       "    .dataframe thead th {\n",
       "        text-align: right;\n",
       "    }\n",
       "</style>\n",
       "<table border=\"1\" class=\"dataframe\">\n",
       "  <thead>\n",
       "    <tr style=\"text-align: right;\">\n",
       "      <th></th>\n",
       "      <th>gender</th>\n",
       "      <th>resolution_topics</th>\n",
       "    </tr>\n",
       "  </thead>\n",
       "  <tbody>\n",
       "    <tr>\n",
       "      <th>0</th>\n",
       "      <td>female</td>\n",
       "      <td>2490</td>\n",
       "    </tr>\n",
       "    <tr>\n",
       "      <th>1</th>\n",
       "      <td>male</td>\n",
       "      <td>2512</td>\n",
       "    </tr>\n",
       "  </tbody>\n",
       "</table>\n",
       "</div>"
      ],
      "text/plain": [
       "   gender  resolution_topics\n",
       "0  female               2490\n",
       "1    male               2512"
      ]
     },
     "execution_count": 81,
     "metadata": {},
     "output_type": "execute_result"
    }
   ],
   "source": [
    "# Verify the data\n",
    "tweetGender[['gender', 'resolution_topics']]"
   ]
  },
  {
   "cell_type": "code",
   "execution_count": 82,
   "metadata": {},
   "outputs": [
    {
     "data": {
      "text/plain": [
       "<AxesSubplot:xlabel='gender', ylabel='resolution_topics'>"
      ]
     },
     "execution_count": 82,
     "metadata": {},
     "output_type": "execute_result"
    },
    {
     "data": {
      "image/png": "[encoded data removed]",
      "text/plain": [
       "<Figure size 432x288 with 1 Axes>"
      ]
     },
     "metadata": {
      "needs_background": "light"
     },
     "output_type": "display_data"
    }
   ],
   "source": [
    "sns.barplot(data=tweetGender, x='gender', y='resolution_topics', order=['male', 'female'])"
   ]
  },
  {
   "cell_type": "markdown",
   "metadata": {},
   "source": [
    "### Tweets by Category"
   ]
  },
  {
   "cell_type": "code",
   "execution_count": 87,
   "metadata": {},
   "outputs": [],
   "source": [
    "# Group all the same category\n",
    "tweetCategory = dataFrame.groupby('resolution_category').count()"
   ]
  },
  {
   "cell_type": "code",
   "execution_count": 88,
   "metadata": {},
   "outputs": [],
   "source": [
    "# Reset index\n",
    "tweetCategory.reset_index(inplace=True)"
   ]
  },
  {
   "cell_type": "code",
   "execution_count": 89,
   "metadata": {},
   "outputs": [
    {
     "data": {
      "text/html": [
       "<div>\n",
       "<style scoped>\n",
       "    .dataframe tbody tr th:only-of-type {\n",
       "        vertical-align: middle;\n",
       "    }\n",
       "\n",
       "    .dataframe tbody tr th {\n",
       "        vertical-align: top;\n",
       "    }\n",
       "\n",
       "    .dataframe thead th {\n",
       "        text-align: right;\n",
       "    }\n",
       "</style>\n",
       "<table border=\"1\" class=\"dataframe\">\n",
       "  <thead>\n",
       "    <tr style=\"text-align: right;\">\n",
       "      <th></th>\n",
       "      <th>resolution_category</th>\n",
       "      <th>resolution_topics</th>\n",
       "    </tr>\n",
       "  </thead>\n",
       "  <tbody>\n",
       "    <tr>\n",
       "      <th>0</th>\n",
       "      <td>Career</td>\n",
       "      <td>126</td>\n",
       "    </tr>\n",
       "    <tr>\n",
       "      <th>1</th>\n",
       "      <td>Education/Training</td>\n",
       "      <td>89</td>\n",
       "    </tr>\n",
       "    <tr>\n",
       "      <th>2</th>\n",
       "      <td>Family/Friends/Relationships</td>\n",
       "      <td>349</td>\n",
       "    </tr>\n",
       "    <tr>\n",
       "      <th>3</th>\n",
       "      <td>Finance</td>\n",
       "      <td>176</td>\n",
       "    </tr>\n",
       "    <tr>\n",
       "      <th>4</th>\n",
       "      <td>Health &amp; Fitness</td>\n",
       "      <td>839</td>\n",
       "    </tr>\n",
       "    <tr>\n",
       "      <th>5</th>\n",
       "      <td>Humor</td>\n",
       "      <td>1009</td>\n",
       "    </tr>\n",
       "    <tr>\n",
       "      <th>6</th>\n",
       "      <td>Personal Growth</td>\n",
       "      <td>1777</td>\n",
       "    </tr>\n",
       "    <tr>\n",
       "      <th>7</th>\n",
       "      <td>Philanthropic</td>\n",
       "      <td>84</td>\n",
       "    </tr>\n",
       "    <tr>\n",
       "      <th>8</th>\n",
       "      <td>Recreation &amp; Leisure</td>\n",
       "      <td>466</td>\n",
       "    </tr>\n",
       "    <tr>\n",
       "      <th>9</th>\n",
       "      <td>Time Management/Organization</td>\n",
       "      <td>87</td>\n",
       "    </tr>\n",
       "  </tbody>\n",
       "</table>\n",
       "</div>"
      ],
      "text/plain": [
       "            resolution_category  resolution_topics\n",
       "0                        Career                126\n",
       "1            Education/Training                 89\n",
       "2  Family/Friends/Relationships                349\n",
       "3                       Finance                176\n",
       "4              Health & Fitness                839\n",
       "5                         Humor               1009\n",
       "6               Personal Growth               1777\n",
       "7                 Philanthropic                 84\n",
       "8          Recreation & Leisure                466\n",
       "9  Time Management/Organization                 87"
      ]
     },
     "execution_count": 89,
     "metadata": {},
     "output_type": "execute_result"
    }
   ],
   "source": [
    "# Verify the data\n",
    "tweetCategory[['resolution_category', 'resolution_topics']]"
   ]
  },
  {
   "cell_type": "code",
   "execution_count": 94,
   "metadata": {},
   "outputs": [
    {
     "data": {
      "text/html": [
       "<div>\n",
       "<style scoped>\n",
       "    .dataframe tbody tr th:only-of-type {\n",
       "        vertical-align: middle;\n",
       "    }\n",
       "\n",
       "    .dataframe tbody tr th {\n",
       "        vertical-align: top;\n",
       "    }\n",
       "\n",
       "    .dataframe thead th {\n",
       "        text-align: right;\n",
       "    }\n",
       "</style>\n",
       "<table border=\"1\" class=\"dataframe\">\n",
       "  <thead>\n",
       "    <tr style=\"text-align: right;\">\n",
       "      <th></th>\n",
       "      <th>resolution_category</th>\n",
       "      <th>resolution_topics</th>\n",
       "    </tr>\n",
       "  </thead>\n",
       "  <tbody>\n",
       "    <tr>\n",
       "      <th>6</th>\n",
       "      <td>Personal Growth</td>\n",
       "      <td>1777</td>\n",
       "    </tr>\n",
       "  </tbody>\n",
       "</table>\n",
       "</div>"
      ],
      "text/plain": [
       "  resolution_category  resolution_topics\n",
       "6     Personal Growth               1777"
      ]
     },
     "execution_count": 94,
     "metadata": {},
     "output_type": "execute_result"
    }
   ],
   "source": [
    "# Highest number of tweets by category\n",
    "tweetCategory[tweetCategory.resolution_topics == tweetCategory.resolution_topics.max()][['resolution_category', 'resolution_topics']]"
   ]
  },
  {
   "cell_type": "code",
   "execution_count": 95,
   "metadata": {},
   "outputs": [
    {
     "data": {
      "text/html": [
       "<div>\n",
       "<style scoped>\n",
       "    .dataframe tbody tr th:only-of-type {\n",
       "        vertical-align: middle;\n",
       "    }\n",
       "\n",
       "    .dataframe tbody tr th {\n",
       "        vertical-align: top;\n",
       "    }\n",
       "\n",
       "    .dataframe thead th {\n",
       "        text-align: right;\n",
       "    }\n",
       "</style>\n",
       "<table border=\"1\" class=\"dataframe\">\n",
       "  <thead>\n",
       "    <tr style=\"text-align: right;\">\n",
       "      <th></th>\n",
       "      <th>resolution_category</th>\n",
       "      <th>resolution_topics</th>\n",
       "    </tr>\n",
       "  </thead>\n",
       "  <tbody>\n",
       "    <tr>\n",
       "      <th>7</th>\n",
       "      <td>Philanthropic</td>\n",
       "      <td>84</td>\n",
       "    </tr>\n",
       "  </tbody>\n",
       "</table>\n",
       "</div>"
      ],
      "text/plain": [
       "  resolution_category  resolution_topics\n",
       "7       Philanthropic                 84"
      ]
     },
     "execution_count": 95,
     "metadata": {},
     "output_type": "execute_result"
    }
   ],
   "source": [
    "# Least tweets by category\n",
    "tweetCategory[tweetCategory.resolution_topics == tweetCategory.resolution_topics.min()][['resolution_category', 'resolution_topics']]"
   ]
  },
  {
   "cell_type": "code",
   "execution_count": 98,
   "metadata": {},
   "outputs": [
    {
     "data": {
      "text/html": [
       "<div>\n",
       "<style scoped>\n",
       "    .dataframe tbody tr th:only-of-type {\n",
       "        vertical-align: middle;\n",
       "    }\n",
       "\n",
       "    .dataframe tbody tr th {\n",
       "        vertical-align: top;\n",
       "    }\n",
       "\n",
       "    .dataframe thead th {\n",
       "        text-align: right;\n",
       "    }\n",
       "</style>\n",
       "<table border=\"1\" class=\"dataframe\">\n",
       "  <thead>\n",
       "    <tr style=\"text-align: right;\">\n",
       "      <th></th>\n",
       "      <th>resolution_category</th>\n",
       "      <th>resolution_topics</th>\n",
       "    </tr>\n",
       "  </thead>\n",
       "  <tbody>\n",
       "    <tr>\n",
       "      <th>6</th>\n",
       "      <td>Personal Growth</td>\n",
       "      <td>1777</td>\n",
       "    </tr>\n",
       "    <tr>\n",
       "      <th>5</th>\n",
       "      <td>Humor</td>\n",
       "      <td>1009</td>\n",
       "    </tr>\n",
       "    <tr>\n",
       "      <th>4</th>\n",
       "      <td>Health &amp; Fitness</td>\n",
       "      <td>839</td>\n",
       "    </tr>\n",
       "  </tbody>\n",
       "</table>\n",
       "</div>"
      ],
      "text/plain": [
       "  resolution_category  resolution_topics\n",
       "6     Personal Growth               1777\n",
       "5               Humor               1009\n",
       "4    Health & Fitness                839"
      ]
     },
     "execution_count": 98,
     "metadata": {},
     "output_type": "execute_result"
    }
   ],
   "source": [
    "# Top 3 tweets by category\n",
    "tweetCategory[['resolution_category', 'resolution_topics']].sort_values(by='resolution_topics', ascending=False).head(3)"
   ]
  },
  {
   "cell_type": "code",
   "execution_count": 99,
   "metadata": {},
   "outputs": [
    {
     "data": {
      "text/html": [
       "<div>\n",
       "<style scoped>\n",
       "    .dataframe tbody tr th:only-of-type {\n",
       "        vertical-align: middle;\n",
       "    }\n",
       "\n",
       "    .dataframe tbody tr th {\n",
       "        vertical-align: top;\n",
       "    }\n",
       "\n",
       "    .dataframe thead th {\n",
       "        text-align: right;\n",
       "    }\n",
       "</style>\n",
       "<table border=\"1\" class=\"dataframe\">\n",
       "  <thead>\n",
       "    <tr style=\"text-align: right;\">\n",
       "      <th></th>\n",
       "      <th>resolution_category</th>\n",
       "      <th>resolution_topics</th>\n",
       "    </tr>\n",
       "  </thead>\n",
       "  <tbody>\n",
       "    <tr>\n",
       "      <th>7</th>\n",
       "      <td>Philanthropic</td>\n",
       "      <td>84</td>\n",
       "    </tr>\n",
       "    <tr>\n",
       "      <th>9</th>\n",
       "      <td>Time Management/Organization</td>\n",
       "      <td>87</td>\n",
       "    </tr>\n",
       "    <tr>\n",
       "      <th>1</th>\n",
       "      <td>Education/Training</td>\n",
       "      <td>89</td>\n",
       "    </tr>\n",
       "  </tbody>\n",
       "</table>\n",
       "</div>"
      ],
      "text/plain": [
       "            resolution_category  resolution_topics\n",
       "7                 Philanthropic                 84\n",
       "9  Time Management/Organization                 87\n",
       "1            Education/Training                 89"
      ]
     },
     "execution_count": 99,
     "metadata": {},
     "output_type": "execute_result"
    }
   ],
   "source": [
    "# 3 least tweets by category\n",
    "tweetCategory[['resolution_category', 'resolution_topics']].sort_values(by='resolution_topics').head(3)"
   ]
  },
  {
   "cell_type": "code",
   "execution_count": 101,
   "metadata": {},
   "outputs": [
    {
     "data": {
      "image/png": "[encoded data removed]",
      "text/plain": [
       "<Figure size 720x504 with 1 Axes>"
      ]
     },
     "metadata": {
      "needs_background": "light"
     },
     "output_type": "display_data"
    }
   ],
   "source": [
    "# Visualize\n",
    "plt.figure(figsize=(10,7))\n",
    "tweetRegionPlot = sns.barplot(data=tweetCategory, x='resolution_category', y='resolution_topics')\n",
    "tweetRegionPlot.tick_params(axis='x', rotation=90)"
   ]
  },
  {
   "cell_type": "markdown",
   "metadata": {},
   "source": [
    "What did we learn from the data\n",
    "\n",
    "2015 New Year’s Resolution. Based on 5002 tweets gathered. The following are the important points that we learned:\n",
    "\n",
    "People began tweeting about their new year’s resolution as early as Dec 21, 2014. The trend lasted until January 2, 2015.\n",
    "\n",
    "The highest number of new year’s resolution related tweets was on Dec 31, 2014.\n",
    "\n",
    "The top 3 highest tweet dates:\n",
    "1. 2014–12–31\n",
    "2. 2015–01–01\n",
    "3. 2014–12–29\n",
    "\n",
    "The state of California has the highest number of New Year’s Resolution tweets. New York ranks second, followed by Texas at third.\n",
    "\n",
    "Based on the processed data, we can possibly assume that the top 3 state has the highest number of tweeter users.\n",
    "\n",
    "The south region has the highest number of combined tweets. Around 50% higher compared to northeast and midwest region.\n",
    "\n",
    "There’s only little difference between the tweets of male and female users. So this is not a good indicator of who tweets the most by gender. We need more data regarding this factor.\n",
    "\n",
    "Based on the top 3 tweets by category: Majority of people are more interested in improving their personal growth, which includes health and fitness. But a large number of users just want to make fun of New Year’s Resolution.\n",
    "\n",
    "\n",
    "https://arc-sosangyo.medium.com/data-analysis-of-new-years-resolution-using-python-63e98bb50f92"
   ]
  }
 ],
 "metadata": {
  "interpreter": {
   "hash": "974712dd4ae48c4775ef9ad4283eafdf001410bc9ba39964476614bbb1f2f564"
  },
  "kernelspec": {
   "display_name": "Python 3.7.7 64-bit ('dsciml': conda)",
   "language": "python",
   "name": "python3"
  },
  "language_info": {
   "codemirror_mode": {
    "name": "ipython",
    "version": 3
   },
   "file_extension": ".py",
   "mimetype": "text/x-python",
   "name": "python",
   "nbconvert_exporter": "python",
   "pygments_lexer": "ipython3",
   "version": "3.7.7"
  },
  "orig_nbformat": 4
 },
 "nbformat": 4,
 "nbformat_minor": 2
}
